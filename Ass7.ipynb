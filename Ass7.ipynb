{
 "cells": [
  {
   "cell_type": "code",
   "execution_count": 1,
   "id": "a5ac9c2d-27c9-4776-b917-628728ae2079",
   "metadata": {},
   "outputs": [
    {
     "name": "stdout",
     "output_type": "stream",
     "text": [
      "Package                      Version\n",
      "---------------------------- ------------\n",
      "absl-py                      2.0.0\n",
      "anyio                        4.0.0\n",
      "argon2-cffi                  23.1.0\n",
      "argon2-cffi-bindings         21.2.0\n",
      "arrow                        1.3.0\n",
      "asttokens                    2.4.0\n",
      "astunparse                   1.6.3\n",
      "async-lru                    2.0.4\n",
      "attrs                        23.1.0\n",
      "Babel                        2.13.0\n",
      "backcall                     0.2.0\n",
      "beautifulsoup4               4.12.2\n",
      "bleach                       6.0.0\n",
      "cachetools                   5.3.1\n",
      "certifi                      2023.7.22\n",
      "cffi                         1.16.0\n",
      "charset-normalizer           3.3.0\n",
      "click                        8.1.7\n",
      "colorama                     0.4.6\n",
      "comm                         0.1.4\n",
      "contourpy                    1.1.1\n",
      "cycler                       0.12.0\n",
      "debugpy                      1.8.0\n",
      "decorator                    5.1.1\n",
      "defusedxml                   0.7.1\n",
      "executing                    2.0.0\n",
      "fastjsonschema               2.18.1\n",
      "flatbuffers                  23.5.26\n",
      "fonttools                    4.43.0\n",
      "fqdn                         1.5.1\n",
      "gast                         0.5.4\n",
      "google-auth                  2.23.2\n",
      "google-auth-oauthlib         1.0.0\n",
      "google-pasta                 0.2.0\n",
      "grpcio                       1.59.0\n",
      "h5py                         3.9.0\n",
      "idna                         3.4\n",
      "ipykernel                    6.25.2\n",
      "ipython                      8.16.1\n",
      "ipython-genutils             0.2.0\n",
      "ipywidgets                   8.1.1\n",
      "isoduration                  20.11.0\n",
      "jedi                         0.19.1\n",
      "Jinja2                       3.1.2\n",
      "joblib                       1.3.2\n",
      "json5                        0.9.14\n",
      "jsonpointer                  2.4\n",
      "jsonschema                   4.19.1\n",
      "jsonschema-specifications    2023.7.1\n",
      "jupyter                      1.0.0\n",
      "jupyter_client               8.3.1\n",
      "jupyter-console              6.6.3\n",
      "jupyter_core                 5.3.2\n",
      "jupyter-events               0.7.0\n",
      "jupyter-lsp                  2.2.0\n",
      "jupyter_server               2.7.3\n",
      "jupyter_server_terminals     0.4.4\n",
      "jupyterlab                   4.0.6\n",
      "jupyterlab-pygments          0.2.2\n",
      "jupyterlab_server            2.25.0\n",
      "jupyterlab-widgets           3.0.9\n",
      "keras                        2.14.0\n",
      "kiwisolver                   1.4.5\n",
      "libclang                     16.0.6\n",
      "Markdown                     3.4.4\n",
      "MarkupSafe                   2.1.3\n",
      "matplotlib                   3.8.0\n",
      "matplotlib-inline            0.1.6\n",
      "mistune                      3.0.2\n",
      "ml-dtypes                    0.2.0\n",
      "nbclient                     0.8.0\n",
      "nbconvert                    7.9.0\n",
      "nbformat                     5.9.2\n",
      "nest-asyncio                 1.5.8\n",
      "nltk                         3.8.1\n",
      "notebook                     7.0.4\n",
      "notebook_shim                0.2.3\n",
      "numpy                        1.26.0\n",
      "oauthlib                     3.2.2\n",
      "opt-einsum                   3.3.0\n",
      "overrides                    7.4.0\n",
      "packaging                    23.2\n",
      "pandas                       2.1.1\n",
      "pandocfilters                1.5.0\n",
      "parso                        0.8.3\n",
      "pickleshare                  0.7.5\n",
      "Pillow                       10.0.1\n",
      "pip                          23.2.1\n",
      "platformdirs                 3.11.0\n",
      "prometheus-client            0.17.1\n",
      "prompt-toolkit               3.0.39\n",
      "protobuf                     4.24.3\n",
      "psutil                       5.9.5\n",
      "pure-eval                    0.2.2\n",
      "pyasn1                       0.5.0\n",
      "pyasn1-modules               0.3.0\n",
      "pycparser                    2.21\n",
      "pydot                        1.4.2\n",
      "Pygments                     2.16.1\n",
      "pyparsing                    3.1.1\n",
      "python-dateutil              2.8.2\n",
      "python-json-logger           2.0.7\n",
      "pytz                         2023.3.post1\n",
      "pywin32                      306\n",
      "pywinpty                     2.0.11\n",
      "PyYAML                       6.0.1\n",
      "pyzmq                        25.1.1\n",
      "qtconsole                    5.4.4\n",
      "QtPy                         2.4.0\n",
      "referencing                  0.30.2\n",
      "regex                        2024.4.28\n",
      "requests                     2.31.0\n",
      "requests-oauthlib            1.3.1\n",
      "rfc3339-validator            0.1.4\n",
      "rfc3986-validator            0.1.1\n",
      "rpds-py                      0.10.3\n",
      "rsa                          4.9\n",
      "scikit-learn                 1.3.1\n",
      "scipy                        1.11.3\n",
      "seaborn                      0.13.0\n",
      "Send2Trash                   1.8.2\n",
      "setuptools                   65.5.0\n",
      "six                          1.16.0\n",
      "sniffio                      1.3.0\n",
      "soupsieve                    2.5\n",
      "stack-data                   0.6.3\n",
      "tensorboard                  2.14.1\n",
      "tensorboard-data-server      0.7.1\n",
      "tensorflow                   2.14.0\n",
      "tensorflow-estimator         2.14.0\n",
      "tensorflow-intel             2.14.0\n",
      "tensorflow-io-gcs-filesystem 0.31.0\n",
      "termcolor                    2.3.0\n",
      "terminado                    0.17.1\n",
      "threadpoolctl                3.2.0\n",
      "tinycss2                     1.2.1\n",
      "tornado                      6.3.3\n",
      "tqdm                         4.66.2\n",
      "traitlets                    5.11.2\n",
      "types-python-dateutil        2.8.19.14\n",
      "typing_extensions            4.8.0\n",
      "tzdata                       2023.3\n",
      "uri-template                 1.3.0\n",
      "urllib3                      2.0.6\n",
      "wcwidth                      0.2.8\n",
      "webcolors                    1.13\n",
      "webencodings                 0.5.1\n",
      "websocket-client             1.6.3\n",
      "Werkzeug                     3.0.0\n",
      "wheel                        0.41.2\n",
      "widgetsnbextension           4.0.9\n",
      "wrapt                        1.14.1\n"
     ]
    },
    {
     "name": "stderr",
     "output_type": "stream",
     "text": [
      "\n",
      "[notice] A new release of pip is available: 23.2.1 -> 24.0\n",
      "[notice] To update, run: python.exe -m pip install --upgrade pip\n"
     ]
    }
   ],
   "source": [
    "get_ipython().system('pip list')"
   ]
  },
  {
   "cell_type": "code",
   "execution_count": 2,
   "id": "89fc9155-c597-4055-8fc8-09bc487b3a8c",
   "metadata": {},
   "outputs": [
    {
     "name": "stdout",
     "output_type": "stream",
     "text": [
      "Note: you may need to restart the kernel to use updated packages.\n",
      "Requirement already satisfied: nltk in c:\\users\\harsh\\appdata\\local\\programs\\python\\python311\\lib\\site-packages (3.8.1)\n",
      "Requirement already satisfied: click in c:\\users\\harsh\\appdata\\local\\programs\\python\\python311\\lib\\site-packages (from nltk) (8.1.7)\n",
      "Requirement already satisfied: joblib in c:\\users\\harsh\\appdata\\local\\programs\\python\\python311\\lib\\site-packages (from nltk) (1.3.2)\n",
      "Requirement already satisfied: regex>=2021.8.3 in c:\\users\\harsh\\appdata\\local\\programs\\python\\python311\\lib\\site-packages (from nltk) (2024.4.28)\n",
      "Requirement already satisfied: tqdm in c:\\users\\harsh\\appdata\\local\\programs\\python\\python311\\lib\\site-packages (from nltk) (4.66.2)\n",
      "Requirement already satisfied: colorama in c:\\users\\harsh\\appdata\\local\\programs\\python\\python311\\lib\\site-packages (from click->nltk) (0.4.6)\n"
     ]
    },
    {
     "name": "stderr",
     "output_type": "stream",
     "text": [
      "\n",
      "[notice] A new release of pip is available: 23.2.1 -> 24.0\n",
      "[notice] To update, run: python.exe -m pip install --upgrade pip\n"
     ]
    }
   ],
   "source": [
    "pip install nltk"
   ]
  },
  {
   "cell_type": "code",
   "execution_count": 3,
   "id": "f90d7c2d-d70d-45ee-a878-12e3ad68869b",
   "metadata": {},
   "outputs": [
    {
     "name": "stderr",
     "output_type": "stream",
     "text": [
      "[nltk_data] Downloading package punkt to\n",
      "[nltk_data]     C:\\Users\\HARSH\\AppData\\Roaming\\nltk_data...\n",
      "[nltk_data]   Package punkt is already up-to-date!\n"
     ]
    },
    {
     "data": {
      "text/plain": [
       "True"
      ]
     },
     "execution_count": 3,
     "metadata": {},
     "output_type": "execute_result"
    }
   ],
   "source": [
    "#Natural Language ToolKit\n",
    "import nltk\n",
    "nltk.download('punkt')"
   ]
  },
  {
   "cell_type": "code",
   "execution_count": 4,
   "id": "5fb8dea7-5ec1-459f-9412-a00f474820bb",
   "metadata": {},
   "outputs": [
    {
     "data": {
      "text/plain": [
       "'Good Day Everyone, How are you all today? Its fun learning Data Analytics. Hope you all are practicing well.'"
      ]
     },
     "execution_count": 4,
     "metadata": {},
     "output_type": "execute_result"
    }
   ],
   "source": [
    "from nltk import tokenize\n",
    "from nltk.tokenize import sent_tokenize\n",
    "text = \"Good Day Everyone, How are you all today? Its fun learning Data Analytics. Hope you all are practicing well.\"\n",
    "text"
   ]
  },
  {
   "cell_type": "code",
   "execution_count": 5,
   "id": "03c8d826-cc3c-469f-9a01-e7008ef94beb",
   "metadata": {},
   "outputs": [
    {
     "name": "stdout",
     "output_type": "stream",
     "text": [
      "['Good Day Everyone, How are you all today?', 'Its fun learning Data Analytics.', 'Hope you all are practicing well.']\n"
     ]
    }
   ],
   "source": [
    "#sentence tokenize\n",
    "tokenized_text = sent_tokenize(text)\n",
    "print(tokenized_text)"
   ]
  },
  {
   "cell_type": "code",
   "execution_count": 6,
   "id": "70e0ec04-6350-4c15-9bcf-e3437317d92f",
   "metadata": {},
   "outputs": [
    {
     "name": "stdout",
     "output_type": "stream",
     "text": [
      "['Good', 'Day', 'Everyone', ',', 'How', 'are', 'you', 'all', 'today', '?', 'Its', 'fun', 'learning', 'Data', 'Analytics', '.', 'Hope', 'you', 'all', 'are', 'practicing', 'well', '.']\n"
     ]
    }
   ],
   "source": [
    "#word tokenize\n",
    "from nltk.tokenize import word_tokenize\n",
    "tokenized_word = word_tokenize(text)\n",
    "print(tokenized_word)"
   ]
  },
  {
   "cell_type": "code",
   "execution_count": 7,
   "id": "7b65ac2a-3a9c-4709-a23c-847e5630ac82",
   "metadata": {},
   "outputs": [
    {
     "data": {
      "text/plain": [
       "[('are', 2), ('you', 2), ('all', 2), ('.', 2), ('Good', 1), ('Day', 1)]"
      ]
     },
     "execution_count": 7,
     "metadata": {},
     "output_type": "execute_result"
    }
   ],
   "source": [
    "#calculating frequency of each word\n",
    "from nltk.probability import FreqDist\n",
    "fdist = FreqDist(tokenized_word)\n",
    "fdist.most_common(6)"
   ]
  },
  {
   "cell_type": "code",
   "execution_count": 8,
   "id": "dd90891e-41d1-4755-9579-3282a0fe4275",
   "metadata": {},
   "outputs": [
    {
     "data": {
      "image/png": "[encoded data removed]",
      "text/plain": [
       "<Figure size 640x480 with 1 Axes>"
      ]
     },
     "metadata": {},
     "output_type": "display_data"
    }
   ],
   "source": [
    "#plotting the above frequencies\n",
    "import matplotlib.pyplot as plt\n",
    "fdist.plot(30,cumulative=False)\n",
    "plt.show()"
   ]
  },
  {
   "cell_type": "code",
   "execution_count": 9,
   "id": "99f95b10-a8bb-4260-ab99-5a5fc7b8c78b",
   "metadata": {},
   "outputs": [
    {
     "name": "stdout",
     "output_type": "stream",
     "text": [
      "{'haven', 'until', 'doing', \"you'll\", 'he', 'how', 'ma', 'been', 'theirs', 'hers', \"weren't\", 'because', 'just', 'won', 'off', 'which', 'or', \"she's\", 'for', 'why', 'shan', 'once', 'd', 'itself', 'and', 'between', 'against', 'yourself', 'does', 'have', 'only', 'being', 'who', 'those', 'nor', 'himself', 'having', 'it', 'in', \"won't\", 'such', 'these', 'down', \"doesn't\", 'your', \"wouldn't\", \"isn't\", 'before', 'wasn', 'further', 'at', 'any', 'ain', 'you', 'has', 'then', 'my', 'an', \"aren't\", \"couldn't\", 'both', 'a', 'through', 'over', 'into', 'here', \"mustn't\", 'during', 'too', 'is', \"haven't\", \"needn't\", 'but', 'what', 'below', 'so', 'own', 'myself', 'are', 'weren', 'of', 've', 'needn', 'that', 'yourselves', 'hasn', 'her', 'they', 'if', \"hadn't\", 'be', 'the', 'we', 'some', 'to', 'm', 'should', \"should've\", 'where', 'about', 'few', 'll', 'them', 'this', 'hadn', 'same', 'very', 'isn', 'mustn', 'don', 'doesn', 'not', \"shouldn't\", 'no', 'under', 'most', 'shouldn', \"didn't\", \"that'll\", 'aren', 'couldn', 'o', 'above', 'was', 'by', 'his', 'while', \"you've\", 'ourselves', 'more', \"don't\", 'will', 'on', \"wasn't\", 're', 'she', 'than', 'all', 'didn', 'their', 't', \"shan't\", 'after', \"you're\", 'its', 'y', 'whom', 'i', \"it's\", 'from', 'there', 'again', 'had', 'wouldn', 'yours', 'me', 'our', \"hasn't\", 'ours', 'were', 'out', 'did', 'themselves', 'do', 'other', 'am', 'mightn', 'with', 'up', 'now', 'herself', 'as', 'each', \"mightn't\", \"you'd\", 's', 'when', 'can', 'him'}\n"
     ]
    },
    {
     "name": "stderr",
     "output_type": "stream",
     "text": [
      "[nltk_data] Downloading package stopwords to\n",
      "[nltk_data]     C:\\Users\\HARSH\\AppData\\Roaming\\nltk_data...\n",
      "[nltk_data]   Package stopwords is already up-to-date!\n"
     ]
    }
   ],
   "source": [
    "#stopwords are words that are often filtered out during natural language processing (NLP) tasks \n",
    "#because they are considered to have little semantic significance\n",
    "nltk.download('stopwords')\n",
    "from nltk.corpus import stopwords\n",
    "stop_words = set(stopwords.words(\"english\"))\n",
    "print(stop_words)"
   ]
  },
  {
   "cell_type": "code",
   "execution_count": 10,
   "id": "def1eb86-3e5a-4047-bff2-e00d5ea2ef39",
   "metadata": {},
   "outputs": [
    {
     "name": "stdout",
     "output_type": "stream",
     "text": [
      "Tokenized sentence:  ['Good', 'Day', 'Everyone', ',', 'How', 'are', 'you', 'all', 'today', '?', 'Its', 'fun', 'learning', 'Data', 'Analytics', '.', 'Hope', 'you', 'all', 'are', 'practicing', 'well', '.']\n",
      "Filtered sentence:  ['Good', 'Day', 'Everyone', ',', 'How', 'today', '?', 'Its', 'fun', 'learning', 'Data', 'Analytics', '.', 'Hope', 'practicing', 'well', '.']\n"
     ]
    }
   ],
   "source": [
    "filtered_sent = []\n",
    "for w in tokenized_word:\n",
    "    if w not in stop_words:\n",
    "        filtered_sent.append(w)\n",
    "print(\"Tokenized sentence: \",tokenized_word)\n",
    "print(\"Filtered sentence: \",filtered_sent)"
   ]
  },
  {
   "cell_type": "code",
   "execution_count": 11,
   "id": "d5b6f733-7a99-475b-83c5-c83c1bfa0b5f",
   "metadata": {},
   "outputs": [
    {
     "name": "stdout",
     "output_type": "stream",
     "text": [
      "Filtered Sentence:  ['Good', 'Day', 'Everyone', ',', 'How', 'today', '?', 'Its', 'fun', 'learning', 'Data', 'Analytics', '.', 'Hope', 'practicing', 'well', '.']\n",
      "Stemmed Sentence:  ['good', 'day', 'everyon', ',', 'how', 'today', '?', 'it', 'fun', 'learn', 'data', 'analyt', '.', 'hope', 'practic', 'well', '.']\n"
     ]
    }
   ],
   "source": [
    "#stemming is converting a word to its base form by removing prefix or suffix\n",
    "\n",
    "from nltk.stem import PorterStemmer\n",
    "from nltk.tokenize import sent_tokenize,word_tokenize\n",
    "ps = PorterStemmer()\n",
    "stemmed_words = []\n",
    "for w in filtered_sent:\n",
    "    stemmed_words.append(ps.stem(w))\n",
    "print(\"Filtered Sentence: \",filtered_sent)\n",
    "print(\"Stemmed Sentence: \",stemmed_words)"
   ]
  },
  {
   "cell_type": "code",
   "execution_count": 12,
   "id": "4401109a-5b38-4a04-8d1f-502f02ea7f38",
   "metadata": {},
   "outputs": [
    {
     "name": "stderr",
     "output_type": "stream",
     "text": [
      "[nltk_data] Downloading package wordnet to\n",
      "[nltk_data]     C:\\Users\\HARSH\\AppData\\Roaming\\nltk_data...\n",
      "[nltk_data]   Package wordnet is already up-to-date!\n"
     ]
    },
    {
     "name": "stdout",
     "output_type": "stream",
     "text": [
      "Lemmatized word:  forget\n",
      "Stemmed word:  forgotten\n"
     ]
    }
   ],
   "source": [
    "#lemmatizing is converting words to their dictionary form\n",
    "\n",
    "nltk.download('wordnet')\n",
    "from nltk.stem.wordnet import WordNetLemmatizer\n",
    "lem = WordNetLemmatizer()\n",
    "from nltk.stem.porter import PorterStemmer\n",
    "stem = PorterStemmer()\n",
    "word = \"forgotten\"\n",
    "\n",
    "print(\"Lemmatized word: \",lem.lemmatize(word,\"v\"))\n",
    "print(\"Stemmed word: \",stem.stem(word))"
   ]
  },
  {
   "cell_type": "code",
   "execution_count": 13,
   "id": "61b830ce-e49f-43f7-b08d-6112227aa7a3",
   "metadata": {},
   "outputs": [
    {
     "name": "stdout",
     "output_type": "stream",
     "text": [
      "['Albert', 'Einstein', 'was', 'born', 'in', 'Ulm', ',', 'Germany', 'in', '1879']\n"
     ]
    }
   ],
   "source": [
    "sent = \"Albert Einstein was born in Ulm, Germany in 1879\"\n",
    "tokens = nltk.word_tokenize(sent)    #breaking the sentence into words\n",
    "print(tokens)"
   ]
  },
  {
   "cell_type": "code",
   "execution_count": 14,
   "id": "4da66750-0b49-4099-aea6-e313995d00df",
   "metadata": {},
   "outputs": [
    {
     "name": "stderr",
     "output_type": "stream",
     "text": [
      "[nltk_data] Downloading package averaged_perceptron_tagger to\n",
      "[nltk_data]     C:\\Users\\HARSH\\AppData\\Roaming\\nltk_data...\n",
      "[nltk_data]   Package averaged_perceptron_tagger is already up-to-\n",
      "[nltk_data]       date!\n"
     ]
    },
    {
     "data": {
      "text/plain": [
       "[('Albert', 'NNP'),\n",
       " ('Einstein', 'NNP'),\n",
       " ('was', 'VBD'),\n",
       " ('born', 'VBN'),\n",
       " ('in', 'IN'),\n",
       " ('Ulm', 'NNP'),\n",
       " (',', ','),\n",
       " ('Germany', 'NNP'),\n",
       " ('in', 'IN'),\n",
       " ('1879', 'CD')]"
      ]
     },
     "execution_count": 14,
     "metadata": {},
     "output_type": "execute_result"
    }
   ],
   "source": [
    "nltk.download('averaged_perceptron_tagger')\n",
    "nltk.pos_tag(tokens)\n",
    "#NNP = proper noun\n",
    "#VBD = past tense verb\n",
    "#VBN = past participle\n",
    "#IN = preposition\n",
    "#',' = punctuation\n",
    "#CD = cardinal number"
   ]
  },
  {
   "cell_type": "code",
   "execution_count": 15,
   "id": "755226af-f761-4897-b6b4-9a3d2f5b2846",
   "metadata": {},
   "outputs": [
    {
     "data": {
      "text/plain": [
       "Counter({'Sinhgad': 2,\n",
       "         'College': 1,\n",
       "         'is': 1,\n",
       "         'located': 1,\n",
       "         'near': 1,\n",
       "         'Road': 1,\n",
       "         'in': 1,\n",
       "         'Pune': 1})"
      ]
     },
     "execution_count": 15,
     "metadata": {},
     "output_type": "execute_result"
    }
   ],
   "source": [
    "#similar to freqdist\n",
    "\n",
    "from collections import Counter\n",
    "sentence = \"Sinhgad College is located near Sinhgad Road in Pune\"\n",
    "term_frequency = Counter(sentence.split())\n",
    "term_frequency"
   ]
  },
  {
   "cell_type": "code",
   "execution_count": null,
   "id": "0e23b1a9-b7c0-4f75-8341-d04e8c601a87",
   "metadata": {},
   "outputs": [],
   "source": []
  }
 ],
 "metadata": {
  "kernelspec": {
   "display_name": "Python 3 (ipykernel)",
   "language": "python",
   "name": "python3"
  },
  "language_info": {
   "codemirror_mode": {
    "name": "ipython",
    "version": 3
   },
   "file_extension": ".py",
   "mimetype": "text/x-python",
   "name": "python",
   "nbconvert_exporter": "python",
   "pygments_lexer": "ipython3",
   "version": "3.11.6"
  }
 },
 "nbformat": 4,
 "nbformat_minor": 5
}
